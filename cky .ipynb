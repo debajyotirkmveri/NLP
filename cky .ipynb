{
 "cells": [
  {
   "cell_type": "markdown",
   "id": "57bb394b",
   "metadata": {},
   "source": [
    "# Basic try"
   ]
  },
  {
   "cell_type": "code",
   "execution_count": 151,
   "id": "70367958",
   "metadata": {},
   "outputs": [],
   "source": [
    "grammar = {\n",
    "    \"S\":[(\"S\",\"Op\",\"S\"),(\"Num\",),(\"LPAREN\",'S',\"RPAREN\")],\n",
    "    \"Op\":[\"+\",\"-\",\"*\",\"/\"],\n",
    "    \"Num\" :[(\"Num\",\"Digit\"),(\"Digit\",)],\n",
    "    \"Digit\":[\"0\",\"1\",\"2\",\"3\",\"4\",\"5\",\"6\",\"7\",\"8\",\"9\"],\n",
    "    \"LPAREN\":[\"(\"],\n",
    "    \"RPAREN\":[\")\"]\n",
    "}"
   ]
  },
  {
   "cell_type": "code",
   "execution_count": 152,
   "id": "d07b2d11",
   "metadata": {},
   "outputs": [
    {
     "data": {
      "text/plain": [
       "[('Num', 'Digit'), ('Digit',)]"
      ]
     },
     "execution_count": 152,
     "metadata": {},
     "output_type": "execute_result"
    }
   ],
   "source": [
    "grammar[\"Num\"]"
   ]
  },
  {
   "cell_type": "code",
   "execution_count": 199,
   "id": "ff2fe16b",
   "metadata": {},
   "outputs": [
    {
     "name": "stdout",
     "output_type": "stream",
     "text": [
      "[('S', 'Op', 'S'), ('Num',), ('LPAREN', 'S', 'RPAREN')]\n",
      "['+', '-', '*', '/']\n",
      "[('Num', 'Digit'), ('Digit',)]\n",
      "['0', '1', '2', '3', '4', '5', '6', '7', '8', '9']\n",
      "['(']\n",
      "[')']\n"
     ]
    }
   ],
   "source": [
    "for non_terminal , production in grammar.items():\n",
    "   # print(non_terminal)\n",
    "   # if  (2,3)  in production :\n",
    "        print(production)"
   ]
  },
  {
   "cell_type": "code",
   "execution_count": 200,
   "id": "5b1c3bac",
   "metadata": {},
   "outputs": [
    {
     "name": "stdout",
     "output_type": "stream",
     "text": [
      "('S', 'Op', 'S')\n",
      "('Num',)\n",
      "('LPAREN', 'S', 'RPAREN')\n",
      "+\n",
      "-\n",
      "*\n",
      "/\n",
      "('Num', 'Digit')\n",
      "('Digit',)\n",
      "0\n",
      "1\n",
      "2\n",
      "3\n",
      "4\n",
      "5\n",
      "6\n",
      "7\n",
      "8\n",
      "9\n",
      "(\n",
      ")\n"
     ]
    }
   ],
   "source": [
    "for non_terminal,production in grammer.items():\n",
    "    for i  in production:\n",
    "        print(i)"
   ]
  },
  {
   "cell_type": "code",
   "execution_count": 155,
   "id": "ae91c1c3",
   "metadata": {
    "scrolled": true
   },
   "outputs": [
    {
     "data": {
      "text/plain": [
       "['0', '1', '2', '3', '4', '5', '6', '7', '8', '9']"
      ]
     },
     "execution_count": 155,
     "metadata": {},
     "output_type": "execute_result"
    }
   ],
   "source": [
    "grammar[\"Digit\"]"
   ]
  },
  {
   "cell_type": "code",
   "execution_count": 156,
   "id": "9d638260",
   "metadata": {},
   "outputs": [
    {
     "data": {
      "text/plain": [
       "['+', '-', '*', '/']"
      ]
     },
     "execution_count": 156,
     "metadata": {},
     "output_type": "execute_result"
    }
   ],
   "source": [
    "grammar[\"Op\"]"
   ]
  },
  {
   "cell_type": "code",
   "execution_count": 157,
   "id": "1e51021c",
   "metadata": {},
   "outputs": [
    {
     "data": {
      "text/plain": [
       "7"
      ]
     },
     "execution_count": 157,
     "metadata": {},
     "output_type": "execute_result"
    }
   ],
   "source": [
    "input_expression = \"2*(3-6)\"\n",
    "n = len(input_expression)\n",
    "n"
   ]
  },
  {
   "cell_type": "code",
   "execution_count": 158,
   "id": "2bf087f2",
   "metadata": {},
   "outputs": [
    {
     "data": {
      "text/plain": [
       "7"
      ]
     },
     "execution_count": 158,
     "metadata": {},
     "output_type": "execute_result"
    }
   ],
   "source": [
    "input_expression.replace(\" \",\"\")\n",
    "n = len(input_expression)\n",
    "n"
   ]
  },
  {
   "cell_type": "code",
   "execution_count": 159,
   "id": "70831d9e",
   "metadata": {},
   "outputs": [],
   "source": [
    "n = 7"
   ]
  },
  {
   "cell_type": "code",
   "execution_count": 160,
   "id": "cf0b2181",
   "metadata": {},
   "outputs": [
    {
     "data": {
      "text/plain": [
       "[[set(), set(), set(), set(), set(), set(), set()],\n",
       " [set(), set(), set(), set(), set(), set(), set()],\n",
       " [set(), set(), set(), set(), set(), set(), set()],\n",
       " [set(), set(), set(), set(), set(), set(), set()],\n",
       " [set(), set(), set(), set(), set(), set(), set()],\n",
       " [set(), set(), set(), set(), set(), set(), set()],\n",
       " [set(), set(), set(), set(), set(), set(), set()]]"
      ]
     },
     "execution_count": 160,
     "metadata": {},
     "output_type": "execute_result"
    }
   ],
   "source": [
    "table1 = [[set() for i in range(n)] for i in range(n)]\n",
    "table1"
   ]
  },
  {
   "cell_type": "code",
   "execution_count": 161,
   "id": "0f2f4d4c",
   "metadata": {},
   "outputs": [
    {
     "data": {
      "text/plain": [
       "[[{'Op'}, set(), set(), set(), set(), set(), set()],\n",
       " [set(), set(), set(), set(), set(), set(), set()],\n",
       " [set(), set(), set(), set(), set(), set(), set()],\n",
       " [set(), set(), set(), set(), set(), set(), set()],\n",
       " [set(), set(), set(), set(), set(), set(), set()],\n",
       " [set(), set(), set(), set(), set(), set(), set()],\n",
       " [set(), set(), set(), set(), set(), set(), set()]]"
      ]
     },
     "execution_count": 161,
     "metadata": {},
     "output_type": "execute_result"
    }
   ],
   "source": [
    "table1[0][0].add(\"Op\")\n",
    "table1"
   ]
  },
  {
   "cell_type": "code",
   "execution_count": 162,
   "id": "8ca29f89",
   "metadata": {},
   "outputs": [
    {
     "data": {
      "text/plain": [
       "[[{'LPAREN', 'Op'}, set(), set(), set(), set(), set(), set()],\n",
       " [set(), set(), set(), set(), set(), set(), set()],\n",
       " [set(), set(), set(), set(), set(), set(), set()],\n",
       " [set(), set(), set(), set(), set(), set(), set()],\n",
       " [set(), set(), set(), set(), set(), set(), set()],\n",
       " [set(), set(), set(), set(), set(), set(), set()],\n",
       " [set(), set(), set(), set(), set(), set(), set()]]"
      ]
     },
     "execution_count": 162,
     "metadata": {},
     "output_type": "execute_result"
    }
   ],
   "source": [
    "table1[0][0].add(\"LPAREN\")\n",
    "table1"
   ]
  },
  {
   "cell_type": "code",
   "execution_count": 163,
   "id": "6703bbca",
   "metadata": {
    "scrolled": true
   },
   "outputs": [
    {
     "data": {
      "text/plain": [
       "True"
      ]
     },
     "execution_count": 163,
     "metadata": {},
     "output_type": "execute_result"
    }
   ],
   "source": [
    "\"Op\" in table1[0][0]"
   ]
  },
  {
   "cell_type": "code",
   "execution_count": 174,
   "id": "f759f927",
   "metadata": {},
   "outputs": [
    {
     "name": "stdout",
     "output_type": "stream",
     "text": [
      "LPAREN\n",
      "Op\n"
     ]
    }
   ],
   "source": [
    "for i in table1[0][0]:\n",
    "    print(i)"
   ]
  },
  {
   "cell_type": "code",
   "execution_count": 164,
   "id": "1cfef839",
   "metadata": {
    "scrolled": true
   },
   "outputs": [
    {
     "name": "stdout",
     "output_type": "stream",
     "text": [
      "{'LPAREN', 'Op'} set()\n"
     ]
    }
   ],
   "source": [
    "print(table1[0][0],table1[0][1])"
   ]
  },
  {
   "cell_type": "code",
   "execution_count": 165,
   "id": "bdd17247",
   "metadata": {},
   "outputs": [
    {
     "name": "stdout",
     "output_type": "stream",
     "text": [
      "[(0, 1), (1, 2), (0, 2), (2, 3), (1, 3), (0, 3), (3, 4), (2, 4), (1, 4), (0, 4), (4, 5), (3, 5), (2, 5), (1, 5), (0, 5), (5, 6), (4, 6), (3, 6), (2, 6), (1, 6), (0, 6)]\n"
     ]
    }
   ],
   "source": [
    "n = 7\n",
    "\n",
    "def k(n):\n",
    "    A = []\n",
    "    for j in range(1, n):\n",
    "        for i in range(j - 1, -1, -1):  # Fix the range here\n",
    "  #          for k in range(i,j):\n",
    "\n",
    "                A.append((i, j))  # Use a tuple to append i and j as a pair\n",
    "    return A\n",
    "\n",
    "result = k(n)\n",
    "print(result)\n"
   ]
  },
  {
   "cell_type": "code",
   "execution_count": 166,
   "id": "aff571d9",
   "metadata": {},
   "outputs": [
    {
     "name": "stdout",
     "output_type": "stream",
     "text": [
      "[[(0, 0), (1, 1), (0, 0), (0, 1), (2, 2), (1, 1), (1, 2), (0, 0), (0, 1), (0, 2), (3, 3), (2, 2), (2, 3), (1, 1), (1, 2), (1, 3), (0, 0), (0, 1), (0, 2), (0, 3), (4, 4), (3, 3), (3, 4), (2, 2), (2, 3), (2, 4), (1, 1), (1, 2), (1, 3), (1, 4), (0, 0), (0, 1), (0, 2), (0, 3), (0, 4), (5, 5), (4, 4), (4, 5), (3, 3), (3, 4), (3, 5), (2, 2), (2, 3), (2, 4), (2, 5), (1, 1), (1, 2), (1, 3), (1, 4), (1, 5), (0, 0), (0, 1), (0, 2), (0, 3), (0, 4), (0, 5)]]\n"
     ]
    }
   ],
   "source": [
    "n = 7\n",
    "\n",
    "def k(n):\n",
    "    A = []\n",
    "    for j in range(1, n):\n",
    "        for i in range(j - 1, -1, -1):  # Fix the range here\n",
    "            for k in range(i,j):\n",
    "                B = []\n",
    "                A.append((i, k))  # Use a tuple to append i and k as a pair # left side\n",
    "                B.append(A)\n",
    "    return B\n",
    "\n",
    "result = k(n)\n",
    "print(result)\n"
   ]
  },
  {
   "cell_type": "markdown",
   "id": "ab051937-cba6-4a61-b552-e0424fccb3e3",
   "metadata": {},
   "source": [
    "# All possible case of parsing cells"
   ]
  },
  {
   "cell_type": "code",
   "execution_count": 167,
   "id": "287e2269",
   "metadata": {},
   "outputs": [],
   "source": [
    "n = 7\n",
    "\n",
    "def k(n):\n",
    "    table = [[set() for _ in range(n)] for _ in range(n)]\n",
    "\n",
    "    A = []\n",
    "    for j in range(1,n):\n",
    "        for i in range(j-1,-1,-1):\n",
    "            for k in range(i,j):\n",
    "                for l in range(i+1,j+1):\n",
    "                    A.append([(i,k),(l,j)]) #all possible case for parsing\n",
    "    return A"
   ]
  },
  {
   "cell_type": "code",
   "execution_count": 168,
   "id": "522a20e6",
   "metadata": {},
   "outputs": [
    {
     "data": {
      "text/plain": [
       "[[(0, 0), (1, 1)],\n",
       " [(1, 1), (2, 2)],\n",
       " [(0, 0), (1, 2)],\n",
       " [(0, 0), (2, 2)],\n",
       " [(0, 1), (1, 2)],\n",
       " [(0, 1), (2, 2)],\n",
       " [(2, 2), (3, 3)],\n",
       " [(1, 1), (2, 3)],\n",
       " [(1, 1), (3, 3)],\n",
       " [(1, 2), (2, 3)],\n",
       " [(1, 2), (3, 3)],\n",
       " [(0, 0), (1, 3)],\n",
       " [(0, 0), (2, 3)],\n",
       " [(0, 0), (3, 3)],\n",
       " [(0, 1), (1, 3)],\n",
       " [(0, 1), (2, 3)],\n",
       " [(0, 1), (3, 3)],\n",
       " [(0, 2), (1, 3)],\n",
       " [(0, 2), (2, 3)],\n",
       " [(0, 2), (3, 3)],\n",
       " [(3, 3), (4, 4)],\n",
       " [(2, 2), (3, 4)],\n",
       " [(2, 2), (4, 4)],\n",
       " [(2, 3), (3, 4)],\n",
       " [(2, 3), (4, 4)],\n",
       " [(1, 1), (2, 4)],\n",
       " [(1, 1), (3, 4)],\n",
       " [(1, 1), (4, 4)],\n",
       " [(1, 2), (2, 4)],\n",
       " [(1, 2), (3, 4)],\n",
       " [(1, 2), (4, 4)],\n",
       " [(1, 3), (2, 4)],\n",
       " [(1, 3), (3, 4)],\n",
       " [(1, 3), (4, 4)],\n",
       " [(0, 0), (1, 4)],\n",
       " [(0, 0), (2, 4)],\n",
       " [(0, 0), (3, 4)],\n",
       " [(0, 0), (4, 4)],\n",
       " [(0, 1), (1, 4)],\n",
       " [(0, 1), (2, 4)],\n",
       " [(0, 1), (3, 4)],\n",
       " [(0, 1), (4, 4)],\n",
       " [(0, 2), (1, 4)],\n",
       " [(0, 2), (2, 4)],\n",
       " [(0, 2), (3, 4)],\n",
       " [(0, 2), (4, 4)],\n",
       " [(0, 3), (1, 4)],\n",
       " [(0, 3), (2, 4)],\n",
       " [(0, 3), (3, 4)],\n",
       " [(0, 3), (4, 4)],\n",
       " [(4, 4), (5, 5)],\n",
       " [(3, 3), (4, 5)],\n",
       " [(3, 3), (5, 5)],\n",
       " [(3, 4), (4, 5)],\n",
       " [(3, 4), (5, 5)],\n",
       " [(2, 2), (3, 5)],\n",
       " [(2, 2), (4, 5)],\n",
       " [(2, 2), (5, 5)],\n",
       " [(2, 3), (3, 5)],\n",
       " [(2, 3), (4, 5)],\n",
       " [(2, 3), (5, 5)],\n",
       " [(2, 4), (3, 5)],\n",
       " [(2, 4), (4, 5)],\n",
       " [(2, 4), (5, 5)],\n",
       " [(1, 1), (2, 5)],\n",
       " [(1, 1), (3, 5)],\n",
       " [(1, 1), (4, 5)],\n",
       " [(1, 1), (5, 5)],\n",
       " [(1, 2), (2, 5)],\n",
       " [(1, 2), (3, 5)],\n",
       " [(1, 2), (4, 5)],\n",
       " [(1, 2), (5, 5)],\n",
       " [(1, 3), (2, 5)],\n",
       " [(1, 3), (3, 5)],\n",
       " [(1, 3), (4, 5)],\n",
       " [(1, 3), (5, 5)],\n",
       " [(1, 4), (2, 5)],\n",
       " [(1, 4), (3, 5)],\n",
       " [(1, 4), (4, 5)],\n",
       " [(1, 4), (5, 5)],\n",
       " [(0, 0), (1, 5)],\n",
       " [(0, 0), (2, 5)],\n",
       " [(0, 0), (3, 5)],\n",
       " [(0, 0), (4, 5)],\n",
       " [(0, 0), (5, 5)],\n",
       " [(0, 1), (1, 5)],\n",
       " [(0, 1), (2, 5)],\n",
       " [(0, 1), (3, 5)],\n",
       " [(0, 1), (4, 5)],\n",
       " [(0, 1), (5, 5)],\n",
       " [(0, 2), (1, 5)],\n",
       " [(0, 2), (2, 5)],\n",
       " [(0, 2), (3, 5)],\n",
       " [(0, 2), (4, 5)],\n",
       " [(0, 2), (5, 5)],\n",
       " [(0, 3), (1, 5)],\n",
       " [(0, 3), (2, 5)],\n",
       " [(0, 3), (3, 5)],\n",
       " [(0, 3), (4, 5)],\n",
       " [(0, 3), (5, 5)],\n",
       " [(0, 4), (1, 5)],\n",
       " [(0, 4), (2, 5)],\n",
       " [(0, 4), (3, 5)],\n",
       " [(0, 4), (4, 5)],\n",
       " [(0, 4), (5, 5)],\n",
       " [(5, 5), (6, 6)],\n",
       " [(4, 4), (5, 6)],\n",
       " [(4, 4), (6, 6)],\n",
       " [(4, 5), (5, 6)],\n",
       " [(4, 5), (6, 6)],\n",
       " [(3, 3), (4, 6)],\n",
       " [(3, 3), (5, 6)],\n",
       " [(3, 3), (6, 6)],\n",
       " [(3, 4), (4, 6)],\n",
       " [(3, 4), (5, 6)],\n",
       " [(3, 4), (6, 6)],\n",
       " [(3, 5), (4, 6)],\n",
       " [(3, 5), (5, 6)],\n",
       " [(3, 5), (6, 6)],\n",
       " [(2, 2), (3, 6)],\n",
       " [(2, 2), (4, 6)],\n",
       " [(2, 2), (5, 6)],\n",
       " [(2, 2), (6, 6)],\n",
       " [(2, 3), (3, 6)],\n",
       " [(2, 3), (4, 6)],\n",
       " [(2, 3), (5, 6)],\n",
       " [(2, 3), (6, 6)],\n",
       " [(2, 4), (3, 6)],\n",
       " [(2, 4), (4, 6)],\n",
       " [(2, 4), (5, 6)],\n",
       " [(2, 4), (6, 6)],\n",
       " [(2, 5), (3, 6)],\n",
       " [(2, 5), (4, 6)],\n",
       " [(2, 5), (5, 6)],\n",
       " [(2, 5), (6, 6)],\n",
       " [(1, 1), (2, 6)],\n",
       " [(1, 1), (3, 6)],\n",
       " [(1, 1), (4, 6)],\n",
       " [(1, 1), (5, 6)],\n",
       " [(1, 1), (6, 6)],\n",
       " [(1, 2), (2, 6)],\n",
       " [(1, 2), (3, 6)],\n",
       " [(1, 2), (4, 6)],\n",
       " [(1, 2), (5, 6)],\n",
       " [(1, 2), (6, 6)],\n",
       " [(1, 3), (2, 6)],\n",
       " [(1, 3), (3, 6)],\n",
       " [(1, 3), (4, 6)],\n",
       " [(1, 3), (5, 6)],\n",
       " [(1, 3), (6, 6)],\n",
       " [(1, 4), (2, 6)],\n",
       " [(1, 4), (3, 6)],\n",
       " [(1, 4), (4, 6)],\n",
       " [(1, 4), (5, 6)],\n",
       " [(1, 4), (6, 6)],\n",
       " [(1, 5), (2, 6)],\n",
       " [(1, 5), (3, 6)],\n",
       " [(1, 5), (4, 6)],\n",
       " [(1, 5), (5, 6)],\n",
       " [(1, 5), (6, 6)],\n",
       " [(0, 0), (1, 6)],\n",
       " [(0, 0), (2, 6)],\n",
       " [(0, 0), (3, 6)],\n",
       " [(0, 0), (4, 6)],\n",
       " [(0, 0), (5, 6)],\n",
       " [(0, 0), (6, 6)],\n",
       " [(0, 1), (1, 6)],\n",
       " [(0, 1), (2, 6)],\n",
       " [(0, 1), (3, 6)],\n",
       " [(0, 1), (4, 6)],\n",
       " [(0, 1), (5, 6)],\n",
       " [(0, 1), (6, 6)],\n",
       " [(0, 2), (1, 6)],\n",
       " [(0, 2), (2, 6)],\n",
       " [(0, 2), (3, 6)],\n",
       " [(0, 2), (4, 6)],\n",
       " [(0, 2), (5, 6)],\n",
       " [(0, 2), (6, 6)],\n",
       " [(0, 3), (1, 6)],\n",
       " [(0, 3), (2, 6)],\n",
       " [(0, 3), (3, 6)],\n",
       " [(0, 3), (4, 6)],\n",
       " [(0, 3), (5, 6)],\n",
       " [(0, 3), (6, 6)],\n",
       " [(0, 4), (1, 6)],\n",
       " [(0, 4), (2, 6)],\n",
       " [(0, 4), (3, 6)],\n",
       " [(0, 4), (4, 6)],\n",
       " [(0, 4), (5, 6)],\n",
       " [(0, 4), (6, 6)],\n",
       " [(0, 5), (1, 6)],\n",
       " [(0, 5), (2, 6)],\n",
       " [(0, 5), (3, 6)],\n",
       " [(0, 5), (4, 6)],\n",
       " [(0, 5), (5, 6)],\n",
       " [(0, 5), (6, 6)]]"
      ]
     },
     "execution_count": 168,
     "metadata": {},
     "output_type": "execute_result"
    }
   ],
   "source": [
    "k(7)"
   ]
  },
  {
   "cell_type": "code",
   "execution_count": 169,
   "id": "542fe80f",
   "metadata": {},
   "outputs": [],
   "source": [
    "from functools import reduce"
   ]
  },
  {
   "cell_type": "code",
   "execution_count": 170,
   "id": "da06fdb0",
   "metadata": {},
   "outputs": [
    {
     "data": {
      "text/plain": [
       "91"
      ]
     },
     "execution_count": 170,
     "metadata": {},
     "output_type": "execute_result"
    }
   ],
   "source": [
    "reduce(lambda x,y :x+y**2,range(1,7))"
   ]
  },
  {
   "cell_type": "code",
   "execution_count": 171,
   "id": "3403304c",
   "metadata": {},
   "outputs": [
    {
     "name": "stdout",
     "output_type": "stream",
     "text": [
      "1\n"
     ]
    }
   ],
   "source": [
    "for i in range(1,2):\n",
    "    print(i)"
   ]
  },
  {
   "cell_type": "code",
   "execution_count": 172,
   "id": "0f31d0f1",
   "metadata": {},
   "outputs": [
    {
     "name": "stdout",
     "output_type": "stream",
     "text": [
      "7\n",
      "6\n",
      "5\n",
      "4\n"
     ]
    }
   ],
   "source": [
    "for k in range(7,3,-1):\n",
    "    print(k)"
   ]
  },
  {
   "cell_type": "code",
   "execution_count": 173,
   "id": "b2ac5f87",
   "metadata": {
    "scrolled": true
   },
   "outputs": [
    {
     "data": {
      "text/plain": [
       "[[set(), set(), set(), set(), set(), set(), set()],\n",
       " [set(), set(), set(), set(), set(), set(), set()],\n",
       " [set(), set(), set(), set(), set(), set(), set()],\n",
       " [set(), set(), set(), set(), set(), set(), set()],\n",
       " [set(), set(), set(), set(), set(), set(), set()],\n",
       " [set(), set(), set(), set(), set(), set(), set()],\n",
       " [set(), set(), set(), set(), set(), set(), set()]]"
      ]
     },
     "execution_count": 173,
     "metadata": {},
     "output_type": "execute_result"
    }
   ],
   "source": [
    "table = [[set() for i in range(n)] for i in range(n)]\n",
    "table"
   ]
  },
  {
   "cell_type": "code",
   "execution_count": null,
   "id": "790993f3",
   "metadata": {},
   "outputs": [],
   "source": []
  },
  {
   "cell_type": "markdown",
   "id": "7efca74f",
   "metadata": {},
   "source": [
    "# Define cky algorithm"
   ]
  },
  {
   "cell_type": "code",
   "execution_count": 193,
   "id": "a8720580",
   "metadata": {},
   "outputs": [],
   "source": [
    "def cky_parser(expression):\n",
    "    grammar = {\n",
    "        \"S\":[(\"S\",\"Op\",\"S\"),(\"Num\",),(\"LPAREN\",'S',\"RPAREN\")],\n",
    "        \"Op\":[\"+\",\"-\",\"*\",\"/\"],\n",
    "        \"Num\" :[(\"Num\",\"Digit\"),(\"Digit\",)],\n",
    "        \"Digit\":[\"0\",\"1\",\"2\",\"3\",\"4\",\"5\",\"6\",\"7\",\"8\",\"9\"],\n",
    "        \"LPAREN\":[\"(\"],\n",
    "        \"RPAREN\":[\")\"]\n",
    "    }\n",
    "    expression = expression.replace(\" \",\"\") # remove spaces from the expression\n",
    "    n = len(expression)\n",
    "    table = [[set() for _ in range(n)] for _ in range(n)]\n",
    "    #initialize the table with terminals\n",
    "    for d in range(n):\n",
    "        for non_terminal , production in grammar.items():\n",
    "            if expression[d] in production:\n",
    "                table[d][d].add(non_terminal)\n",
    "                \n",
    "    #algorithm for parsing\n",
    "    for j in range(1,n):\n",
    "        for i in range(j-1,-1,-1):\n",
    "                for k in range(i,j):\n",
    "                    for l in range(i+1,j+1):\n",
    "                         for non_terminal,production in grammar.items():\n",
    "                                  for left in table[i][k]:   # this cell comes from left direction\n",
    "                                        for down in table[j][l]:   # this cell comes from down direction\n",
    "                                            if(left,down) in production:\n",
    "                                                table[i][j].add(non_terminal)\n",
    "                    \n",
    "                    \n",
    "    # If 'S' is in the top cell of the parse table, the input is valid\n",
    "    if 'S' in table[0][n - 1]:\n",
    "        return \"Valid expression\"\n",
    "    else:\n",
    "        return \"The Expression Can Not Parse By CKY Algorithm Because \""
   ]
  },
  {
   "cell_type": "code",
   "execution_count": 194,
   "id": "60f3f227",
   "metadata": {},
   "outputs": [],
   "source": [
    "input_expression  = \"2+(2*3)\""
   ]
  },
  {
   "cell_type": "code",
   "execution_count": 195,
   "id": "58d6949b",
   "metadata": {
    "scrolled": true
   },
   "outputs": [
    {
     "data": {
      "text/plain": [
       "7"
      ]
     },
     "execution_count": 195,
     "metadata": {},
     "output_type": "execute_result"
    }
   ],
   "source": [
    "len(input_expression)"
   ]
  },
  {
   "cell_type": "code",
   "execution_count": 196,
   "id": "41bc347a",
   "metadata": {},
   "outputs": [
    {
     "data": {
      "text/plain": [
       "'The Expression Can Not Parse By CKY Algorithm'"
      ]
     },
     "execution_count": 196,
     "metadata": {},
     "output_type": "execute_result"
    }
   ],
   "source": [
    "input_expression  = \"2+(2*3)\"\n",
    "cky_parser(input_expression)"
   ]
  },
  {
   "cell_type": "markdown",
   "id": "30a50063",
   "metadata": {},
   "source": [
    "# Another grammar expression"
   ]
  },
  {
   "cell_type": "code",
   "execution_count": 197,
   "id": "5e2a589b",
   "metadata": {},
   "outputs": [],
   "source": [
    "#S -> is the start symbol, representing a complete arithmetic expression.\n",
    "#E -> represents expressions.\n",
    "#T -> represents terms.\n",
    "#F -> represents factors, which can be numbers or expressions enclosed in parentheses.\n",
    "#num -> represents numeric values"
   ]
  },
  {
   "cell_type": "code",
   "execution_count": null,
   "id": "79bafd50",
   "metadata": {},
   "outputs": [],
   "source": []
  },
  {
   "cell_type": "code",
   "execution_count": 201,
   "id": "a08a327a",
   "metadata": {},
   "outputs": [],
   "source": [
    "def cky_parser(expression):\n",
    "    grammar = {\n",
    "            'S': [('E',)],\n",
    "            'E': [('E', 'Op', 'E'), ('T',)],\n",
    "            'T': [('T', 'Op', 'F'), ('F',)],\n",
    "            'F': [('(', 'E', ')'), ('Num',)],\n",
    "            'Op': ['+', '-', '*', '/'],\n",
    "            \"Num\":[\"0\",\"1\",\"2\",\"3\",\"4\",\"5\",\"6\",\"7\",\"8\",\"9\"]\n",
    "        }\n",
    "    expression = expression.replace(\" \",\"\") # remove spaces from the expression\n",
    "    n = len(expression)\n",
    "    table = [[set() for _ in range(n)] for _ in range(n)]\n",
    "    #initialize the table with terminals\n",
    "    for d in range(n):\n",
    "        for non_terminal , production in grammar.items():\n",
    "            if expression[d] in production:\n",
    "                table[d][d].add(non_terminal)\n",
    "                \n",
    "    #algorithm for parsing\n",
    "    for j in range(1,n):\n",
    "        for i in range(j-1,-1,-1):\n",
    "                for k in range(i,j):\n",
    "                    for l in range(i+1,j+1):\n",
    "                         for non_terminal,production in grammar.items():\n",
    "                                  for left in table[i][k]:   # this cell comes from left direction\n",
    "                                        for down in table[j][l]:   # this cell comes from down direction\n",
    "                                            if(left,down) in production:\n",
    "                                                table[i][j].add(non_terminal)\n",
    "                    \n",
    "                    \n",
    "    # If 'S' is in the top cell of the parse table, the input is valid\n",
    "    if 'S' in table[0][n - 1]:\n",
    "        return \"Valid expression\"\n",
    "    else:\n",
    "        return \"The Expression Can Not Parse By CKY Algorithm Because \""
   ]
  },
  {
   "cell_type": "code",
   "execution_count": 202,
   "id": "57a2a24d",
   "metadata": {},
   "outputs": [
    {
     "data": {
      "text/plain": [
       "'The Expression Can Not Parse By CKY Algorithm Because '"
      ]
     },
     "execution_count": 202,
     "metadata": {},
     "output_type": "execute_result"
    }
   ],
   "source": [
    "input_expression  = \"2+(2*3)\"\n",
    "cky_parser(input_expression)"
   ]
  },
  {
   "cell_type": "code",
   "execution_count": null,
   "id": "9b20f4a5",
   "metadata": {},
   "outputs": [],
   "source": []
  },
  {
   "cell_type": "markdown",
   "id": "c6912254",
   "metadata": {},
   "source": [
    "# Another approach"
   ]
  },
  {
   "cell_type": "code",
   "execution_count": 203,
   "id": "fca2926e",
   "metadata": {},
   "outputs": [],
   "source": [
    "grammar = {\n",
    "    'E': [('Int',), ('E', 'Op', 'E'), ('(', 'E', ')')],\n",
    "    'Op': [('+',), ('-',), ('*',), ('/',)],\n",
    "    \"Int\":[\"0\",\"1\",\"2\",\"3\",\"4\",\"5\",\"6\",\"7\",\"8\",\"9\"]\n",
    "}"
   ]
  },
  {
   "cell_type": "code",
   "execution_count": 204,
   "id": "8dd0b642",
   "metadata": {},
   "outputs": [
    {
     "data": {
      "text/plain": [
       "'The Expression Can Not Parse By CKY Algorithm Because '"
      ]
     },
     "execution_count": 204,
     "metadata": {},
     "output_type": "execute_result"
    }
   ],
   "source": [
    "def cky_parser(expression):\n",
    "    grammar = {\n",
    "        'E': [('Int',), ('E', 'Op', 'E'), ('(', 'E', ')')],\n",
    "        'Op': [('+',), ('-',), ('*',), ('/',)],\n",
    "        \"Int\":[\"0\",\"1\",\"2\",\"3\",\"4\",\"5\",\"6\",\"7\",\"8\",\"9\"]\n",
    "    }\n",
    "    expression = expression.replace(\" \",\"\") # remove spaces from the expression\n",
    "    n = len(expression)\n",
    "    table = [[set() for _ in range(n)] for _ in range(n)]\n",
    "    #initialize the table with terminals\n",
    "    for d in range(n):\n",
    "        for non_terminal , production in grammar.items():\n",
    "            if expression[d] in production:\n",
    "                table[d][d].add(non_terminal)\n",
    "                \n",
    "    #algorithm for parsing\n",
    "    for j in range(1,n):\n",
    "        for i in range(j-1,-1,-1):\n",
    "                for k in range(i,j):\n",
    "                    for l in range(i+1,j+1):\n",
    "                         for non_terminal,production in grammar.items():\n",
    "                                  for left in table[i][k]:   # this cell comes from left direction\n",
    "                                        for down in table[j][l]:   # this cell comes from down direction\n",
    "                                            if(left,down) in production:\n",
    "                                                table[i][j].add(non_terminal)\n",
    "                    \n",
    "                    \n",
    "    # If 'S' is in the top cell of the parse table, the input is valid\n",
    "    if 'S' in table[0][n - 1]:\n",
    "        return \"Valid expression\"\n",
    "    else:\n",
    "        return \"The Expression Can Not Parse By CKY Algorithm Because \"\n",
    "    \n",
    "input_expression  = \"2+(2*3)\"\n",
    "cky_parser(input_expression)"
   ]
  },
  {
   "cell_type": "markdown",
   "id": "de2aea50",
   "metadata": {},
   "source": [
    "# Another Approach"
   ]
  },
  {
   "cell_type": "code",
   "execution_count": 209,
   "id": "46771a90",
   "metadata": {},
   "outputs": [],
   "source": [
    "grammar = {\n",
    "    'S': [('S',), ('S', 'S'), ('op', 'S'), ('exps',)],\n",
    "    'digit': ['0', '1', '2', '3', '4', '5', '6', '7', '8', '9'],\n",
    "    'nonzero': ['1', '2', '3', '4', '5', '6', '7', '8', '9'],\n",
    "    'num': [('nonzero', 'digit*')],\n",
    "    'exp': [('num',), ('(', 'num', ')')],\n",
    "    'exps': [('op', 'exp', '[op', 'exp]*')],\n",
    "    'op': ['-', '+','*','/'],\n",
    "    '(': ['('],\n",
    "    ')': [')'],\n",
    "}"
   ]
  },
  {
   "cell_type": "code",
   "execution_count": 210,
   "id": "0b98489a",
   "metadata": {},
   "outputs": [
    {
     "data": {
      "text/plain": [
       "'The Expression Can Not Parse By CKY Algorithm Because '"
      ]
     },
     "execution_count": 210,
     "metadata": {},
     "output_type": "execute_result"
    }
   ],
   "source": [
    "def cky_parser(expression):\n",
    "    grammar = {\n",
    "        'S': [('S',), ('S', 'S'), ('op', 'S'), ('exps',)],\n",
    "        'digit': ['0', '1', '2', '3', '4', '5', '6', '7', '8', '9'],\n",
    "        'nonzero': ['1', '2', '3', '4', '5', '6', '7', '8', '9'],\n",
    "        'num': [('nonzero', 'digit*')],\n",
    "        'exp': [('num',), ('(', 'num', ')')],\n",
    "        'exps': [('op', 'exp', '[op', 'exp]*')],\n",
    "        'op': ['-', '+','*','/'],\n",
    "        '(': ['('],\n",
    "        ')': [')'],\n",
    "    }\n",
    "    expression = expression.replace(\" \",\"\") # remove spaces from the expression\n",
    "    n = len(expression)\n",
    "    table = [[set() for _ in range(n)] for _ in range(n)]\n",
    "    #initialize the table with terminals\n",
    "    for d in range(n):\n",
    "        for non_terminal , production in grammar.items():\n",
    "            if expression[d] in production:\n",
    "                table[d][d].add(non_terminal)\n",
    "                \n",
    "    #algorithm for parsing\n",
    "    for j in range(1,n):\n",
    "        for i in range(j-1,-1,-1):\n",
    "                for k in range(i,j):\n",
    "                    for l in range(i+1,j+1):\n",
    "                         for non_terminal,production in grammar.items():\n",
    "                                  for left in table[i][k]:   # this cell comes from left direction\n",
    "                                        for down in table[j][l]:   # this cell comes from down direction\n",
    "                                            if(left,down) in production:\n",
    "                                                table[i][j].add(non_terminal)\n",
    "                    \n",
    "                    \n",
    "    # If 'S' is in the top cell of the parse table, the input is valid\n",
    "    if 'S' in table[0][n - 1]:\n",
    "        return \"Valid expression\"\n",
    "    else:\n",
    "        return \"The Expression Can Not Parse By CKY Algorithm Because \"\n",
    "    \n",
    "input_expression  = \"2+(2*3)\"\n",
    "cky_parser(input_expression)"
   ]
  }
 ],
 "metadata": {
  "kernelspec": {
   "display_name": "Python 3 (ipykernel)",
   "language": "python",
   "name": "python3"
  },
  "language_info": {
   "codemirror_mode": {
    "name": "ipython",
    "version": 3
   },
   "file_extension": ".py",
   "mimetype": "text/x-python",
   "name": "python",
   "nbconvert_exporter": "python",
   "pygments_lexer": "ipython3",
   "version": "3.10.12"
  }
 },
 "nbformat": 4,
 "nbformat_minor": 5
}
